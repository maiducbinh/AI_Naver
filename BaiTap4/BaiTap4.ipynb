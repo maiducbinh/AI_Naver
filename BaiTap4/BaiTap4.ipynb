{
 "cells": [
  {
   "cell_type": "code",
   "execution_count": 1,
   "id": "6dbdbc9c",
   "metadata": {},
   "outputs": [
    {
     "name": "stdout",
     "output_type": "stream",
     "text": [
      "<class 'pandas.core.frame.DataFrame'>\n",
      "RangeIndex: 2938 entries, 0 to 2937\n",
      "Data columns (total 22 columns):\n",
      " #   Column                           Non-Null Count  Dtype  \n",
      "---  ------                           --------------  -----  \n",
      " 0   Country                          2938 non-null   object \n",
      " 1   Year                             2938 non-null   int64  \n",
      " 2   Status                           2938 non-null   object \n",
      " 3   Life expectancy                  2928 non-null   float64\n",
      " 4   Adult Mortality                  2928 non-null   float64\n",
      " 5   infant deaths                    2938 non-null   int64  \n",
      " 6   Alcohol                          2744 non-null   float64\n",
      " 7   percentage expenditure           2938 non-null   float64\n",
      " 8   Hepatitis B                      2385 non-null   float64\n",
      " 9   Measles                          2938 non-null   int64  \n",
      " 10   BMI                             2904 non-null   float64\n",
      " 11  under-five deaths                2938 non-null   int64  \n",
      " 12  Polio                            2919 non-null   float64\n",
      " 13  Total expenditure                2712 non-null   float64\n",
      " 14  Diphtheria                       2919 non-null   float64\n",
      " 15   HIV/AIDS                        2938 non-null   float64\n",
      " 16  GDP                              2490 non-null   float64\n",
      " 17  Population                       2286 non-null   float64\n",
      " 18   thinness  1-19 years            2904 non-null   float64\n",
      " 19   thinness 5-9 years              2904 non-null   float64\n",
      " 20  Income composition of resources  2771 non-null   float64\n",
      " 21  Schooling                        2775 non-null   float64\n",
      "dtypes: float64(16), int64(4), object(2)\n",
      "memory usage: 505.1+ KB\n"
     ]
    }
   ],
   "source": [
    "import pandas as pd\n",
    "from sklearn.model_selection import train_test_split\n",
    "from sklearn.linear_model import LinearRegression\n",
    "from sklearn.metrics import mean_absolute_error, mean_squared_error, r2_score\n",
    "from sklearn.preprocessing import StandardScaler\n",
    "from sklearn.model_selection import cross_val_score, KFold\n",
    "import matplotlib.pyplot as plt\n",
    "import numpy as np\n",
    "\n",
    "df = pd.read_csv('Life Expectancy Data.csv')\n",
    "\n",
    "df.info()"
   ]
  },
  {
   "cell_type": "code",
   "execution_count": 2,
   "id": "b9bb084d",
   "metadata": {},
   "outputs": [],
   "source": [
    "# Xóa các dòng có giá trị rỗng\n",
    "df.dropna(inplace=True)\n",
    "\n",
    "data = df['Country']\n",
    "\n",
    "# Xóa các cột không cần thiết\n",
    "df.drop(['Country', 'Year'], axis=1, inplace=True)\n",
    "\n",
    "# Chuyển Status thành số\n",
    "df['Status'] = df['Status'].map({'Developing': 1, 'Developed': 0})\n",
    "\n",
    "# Chuyển đổi các biến số thành dạng số thực\n",
    "df = df.astype(float)\n",
    "\n",
    "# Chia dữ liệu thành tập train và tập test\n",
    "X = df.drop('Life expectancy ', axis=1)\n",
    "y = df['Life expectancy ']\n",
    "X_train, X_test, y_train, y_test = train_test_split(X, y, test_size=0.2, random_state=42)\n",
    "\n",
    "# Huấn luyện mô hình Linear Regression trên tập huấn luyện\n",
    "model = LinearRegression()\n",
    "model.fit(X_train, y_train)\n",
    "\n",
    "# Dự đoán trên tập kiểm tra\n",
    "y_pred = model.predict(X_test)"
   ]
  },
  {
   "cell_type": "code",
   "execution_count": 3,
   "id": "5cdbeb1e",
   "metadata": {},
   "outputs": [
    {
     "name": "stdout",
     "output_type": "stream",
     "text": [
      "MAE: 2.8131951604837315\n",
      "MSE: 13.457911853390346\n",
      "R^2: 0.8105119533384194\n"
     ]
    }
   ],
   "source": [
    "# 1. Tính các sai số MAE, MSE, R^2\n",
    "mae = mean_absolute_error(y_test, y_pred)\n",
    "mse = mean_squared_error(y_test, y_pred)\n",
    "r2 = r2_score(y_test, y_pred)\n",
    "\n",
    "print(\"MAE:\", mae)\n",
    "print(\"MSE:\", mse)\n",
    "print(\"R^2:\", r2)"
   ]
  },
  {
   "cell_type": "code",
   "execution_count": 4,
   "id": "bd24f471",
   "metadata": {},
   "outputs": [
    {
     "name": "stdout",
     "output_type": "stream",
     "text": [
      "MAE before scale: 2.8131951604837315\n",
      "Scaled MAE:       2.813195160479853\n",
      "\n",
      "MSE before scale: 13.457911853390346\n",
      "Scaled MSE:       13.45791185333952\n",
      "\n",
      "R^2 before scale: 0.8105119533384194\n",
      "Scaled R^2:       0.8105119533391351\n"
     ]
    }
   ],
   "source": [
    "# 2. So sánh các giá trị sai số trước và sau khi chuẩn hóa dữ liệu\n",
    "\n",
    "from sklearn.preprocessing import MinMaxScaler\n",
    "\n",
    "# Chuẩn hóa dữ liệu\n",
    "scaler = MinMaxScaler()\n",
    "X_train_scaled = scaler.fit_transform(X_train)\n",
    "X_test_scaled = scaler.transform(X_test)\n",
    "X_scaled = scaler.fit_transform(X)\n",
    "\n",
    "# Huấn luyện mô hình với dữ liệu đã chuẩn hóa\n",
    "model_scaled = LinearRegression()\n",
    "model_scaled.fit(X_train_scaled, y_train)\n",
    "\n",
    "# Dự đoán trên tập kiểm tra đã chuẩn hóa\n",
    "y_pred_scaled = model_scaled.predict(X_test_scaled)\n",
    "\n",
    "# Tính các chỉ số sai số\n",
    "mae_scaled = mean_absolute_error(y_test, y_pred_scaled)\n",
    "mse_scaled = mean_squared_error(y_test, y_pred_scaled)\n",
    "r2_scaled = r2_score(y_test, y_pred_scaled)\n",
    "\n",
    "print(\"MAE before scale:\", mae)\n",
    "print(\"Scaled MAE:      \", mae_scaled, end='\\n\\n')\n",
    "\n",
    "print(\"MSE before scale:\", mse)\n",
    "print(\"Scaled MSE:      \", mse_scaled, end='\\n\\n')\n",
    "\n",
    "print(\"R^2 before scale:\", r2)\n",
    "print(\"Scaled R^2:      \", r2_scaled)"
   ]
  },
  {
   "cell_type": "code",
   "execution_count": 5,
   "id": "c7050122",
   "metadata": {},
   "outputs": [
    {
     "name": "stdout",
     "output_type": "stream",
     "text": [
      "MAE (cross validation): 2.783509929948295\n",
      "MSE (cross validation): 13.023264103716475\n",
      "R^2 (cross validation): 0.8333220382874377\n"
     ]
    }
   ],
   "source": [
    "# 3. Sử dụng kỹ thuật cross validation để tối ưu hóa các chỉ số\n",
    "\n",
    "kf = KFold(n_splits=5, shuffle=True, random_state=42)\n",
    "# n_splits=5: Số lượng fold (tập con)\n",
    "# shuffle=True: Lựa chọn ngẫu nhiên các mẫu dữ liệu\n",
    "\n",
    "mae_cv = cross_val_score(model, X_train, y_train, scoring='neg_mean_absolute_error', cv=kf)\n",
    "mse_cv = cross_val_score(model, X_train, y_train, scoring='neg_mean_squared_error', cv=kf)\n",
    "r2_cv = cross_val_score(model, X_train, y_train, scoring='r2', cv=kf)\n",
    "\n",
    "print(\"MAE (cross validation):\", abs(mae_cv.mean()))\n",
    "print(\"MSE (cross validation):\", abs(mse_cv.mean()))\n",
    "print(\"R^2 (cross validation):\", abs(r2_cv.mean()))"
   ]
  },
  {
   "cell_type": "code",
   "execution_count": null,
   "id": "11ee2375",
   "metadata": {},
   "outputs": [],
   "source": []
  },
  {
   "cell_type": "code",
   "execution_count": null,
   "id": "7a7143d5",
   "metadata": {},
   "outputs": [],
   "source": []
  },
  {
   "cell_type": "code",
   "execution_count": null,
   "id": "7db6e591",
   "metadata": {},
   "outputs": [],
   "source": []
  }
 ],
 "metadata": {
  "kernelspec": {
   "display_name": "Python 3 (ipykernel)",
   "language": "python",
   "name": "python3"
  },
  "language_info": {
   "codemirror_mode": {
    "name": "ipython",
    "version": 3
   },
   "file_extension": ".py",
   "mimetype": "text/x-python",
   "name": "python",
   "nbconvert_exporter": "python",
   "pygments_lexer": "ipython3",
   "version": "3.9.13"
  }
 },
 "nbformat": 4,
 "nbformat_minor": 5
}
